{
 "cells": [
  {
   "cell_type": "code",
   "execution_count": 1,
   "id": "68bc99e2-a05c-432d-b933-c9d1e2ad7e8f",
   "metadata": {},
   "outputs": [],
   "source": [
    "import pandas as pd\n",
    "import numpy as np\n",
    "import seaborn as sns\n",
    "import matplotlib.pyplot as plt\n",
    "%matplotlib inline"
   ]
  },
  {
   "cell_type": "code",
   "execution_count": 2,
   "id": "9f493c02-29b2-46ee-8575-e0c5e73f1193",
   "metadata": {},
   "outputs": [],
   "source": [
    "Materials_Processes = pd.read_csv(\"Material_processes_2024_YTD.csv\")"
   ]
  },
  {
   "cell_type": "code",
   "execution_count": 3,
   "id": "60e79bad-2d86-420f-a139-68837e1b1f6c",
   "metadata": {},
   "outputs": [
    {
     "data": {
      "text/html": [
       "<div>\n",
       "<style scoped>\n",
       "    .dataframe tbody tr th:only-of-type {\n",
       "        vertical-align: middle;\n",
       "    }\n",
       "\n",
       "    .dataframe tbody tr th {\n",
       "        vertical-align: top;\n",
       "    }\n",
       "\n",
       "    .dataframe thead th {\n",
       "        text-align: right;\n",
       "    }\n",
       "</style>\n",
       "<table border=\"1\" class=\"dataframe\">\n",
       "  <thead>\n",
       "    <tr style=\"text-align: right;\">\n",
       "      <th></th>\n",
       "      <th>Material</th>\n",
       "      <th>Matl group</th>\n",
       "      <th>Size/dimensions</th>\n",
       "    </tr>\n",
       "  </thead>\n",
       "  <tbody>\n",
       "    <tr>\n",
       "      <th>0</th>\n",
       "      <td>01010110</td>\n",
       "      <td>UNASSIGN</td>\n",
       "      <td>NaN</td>\n",
       "    </tr>\n",
       "    <tr>\n",
       "      <th>1</th>\n",
       "      <td>01010133</td>\n",
       "      <td>UNASSIGN</td>\n",
       "      <td>NaN</td>\n",
       "    </tr>\n",
       "    <tr>\n",
       "      <th>2</th>\n",
       "      <td>01186971</td>\n",
       "      <td>UNASSIGN</td>\n",
       "      <td>NaN</td>\n",
       "    </tr>\n",
       "    <tr>\n",
       "      <th>3</th>\n",
       "      <td>01189202F</td>\n",
       "      <td>UNASSIGN</td>\n",
       "      <td>NaN</td>\n",
       "    </tr>\n",
       "    <tr>\n",
       "      <th>4</th>\n",
       "      <td>01189203</td>\n",
       "      <td>UNASSIGN</td>\n",
       "      <td>NaN</td>\n",
       "    </tr>\n",
       "  </tbody>\n",
       "</table>\n",
       "</div>"
      ],
      "text/plain": [
       "    Material Matl group Size/dimensions\n",
       "0   01010110   UNASSIGN             NaN\n",
       "1   01010133   UNASSIGN             NaN\n",
       "2   01186971   UNASSIGN             NaN\n",
       "3  01189202F   UNASSIGN             NaN\n",
       "4   01189203   UNASSIGN             NaN"
      ]
     },
     "execution_count": 3,
     "metadata": {},
     "output_type": "execute_result"
    }
   ],
   "source": [
    "Materials_Processes.head(5)"
   ]
  },
  {
   "cell_type": "code",
   "execution_count": 4,
   "id": "5b5d3882-6e53-4ab6-8675-b79b154bdd90",
   "metadata": {},
   "outputs": [],
   "source": [
    "Orders = pd.read_csv(\"Orders_YTD_2024.csv\")"
   ]
  },
  {
   "cell_type": "code",
   "execution_count": 5,
   "id": "99c1574b-a2d4-40cf-b34a-72b5ca50e5b5",
   "metadata": {},
   "outputs": [
    {
     "data": {
      "text/html": [
       "<div>\n",
       "<style scoped>\n",
       "    .dataframe tbody tr th:only-of-type {\n",
       "        vertical-align: middle;\n",
       "    }\n",
       "\n",
       "    .dataframe tbody tr th {\n",
       "        vertical-align: top;\n",
       "    }\n",
       "\n",
       "    .dataframe thead th {\n",
       "        text-align: right;\n",
       "    }\n",
       "</style>\n",
       "<table border=\"1\" class=\"dataframe\">\n",
       "  <thead>\n",
       "    <tr style=\"text-align: right;\">\n",
       "      <th></th>\n",
       "      <th>Order</th>\n",
       "      <th>Material Number</th>\n",
       "      <th>Order quantity (GMEIN)</th>\n",
       "      <th>Confirmed quantity (GMEIN)</th>\n",
       "      <th>Total scrap (GMEIN)</th>\n",
       "      <th>Material description</th>\n",
       "      <th>Created on</th>\n",
       "      <th>Actual finish date</th>\n",
       "      <th>Time to complete</th>\n",
       "    </tr>\n",
       "  </thead>\n",
       "  <tbody>\n",
       "    <tr>\n",
       "      <th>0</th>\n",
       "      <td>1054342</td>\n",
       "      <td>01500831</td>\n",
       "      <td>100</td>\n",
       "      <td>100</td>\n",
       "      <td>0</td>\n",
       "      <td>FLYER, W&amp;I INTERNAL FLYER</td>\n",
       "      <td>2024-03-20</td>\n",
       "      <td>2024-03-21</td>\n",
       "      <td>1</td>\n",
       "    </tr>\n",
       "    <tr>\n",
       "      <th>1</th>\n",
       "      <td>1054125</td>\n",
       "      <td>01500833</td>\n",
       "      <td>100</td>\n",
       "      <td>100</td>\n",
       "      <td>0</td>\n",
       "      <td>FLYER, TRUE VALUE</td>\n",
       "      <td>2024-01-17</td>\n",
       "      <td>2024-01-17</td>\n",
       "      <td>0</td>\n",
       "    </tr>\n",
       "    <tr>\n",
       "      <th>2</th>\n",
       "      <td>1054086</td>\n",
       "      <td>01500835</td>\n",
       "      <td>100</td>\n",
       "      <td>100</td>\n",
       "      <td>0</td>\n",
       "      <td>FLYER, ORGILL 2024 SHOW FLYER</td>\n",
       "      <td>2024-01-18</td>\n",
       "      <td>2024-01-18</td>\n",
       "      <td>0</td>\n",
       "    </tr>\n",
       "    <tr>\n",
       "      <th>3</th>\n",
       "      <td>1054206</td>\n",
       "      <td>01500836</td>\n",
       "      <td>100</td>\n",
       "      <td>100</td>\n",
       "      <td>0</td>\n",
       "      <td>FLYER, DO IT BEST 2024 SHOW</td>\n",
       "      <td>2024-02-12</td>\n",
       "      <td>2024-02-12</td>\n",
       "      <td>0</td>\n",
       "    </tr>\n",
       "    <tr>\n",
       "      <th>4</th>\n",
       "      <td>1054181</td>\n",
       "      <td>01500838</td>\n",
       "      <td>100</td>\n",
       "      <td>100</td>\n",
       "      <td>0</td>\n",
       "      <td>FLYER, ACE 2024 SHOW FLYER</td>\n",
       "      <td>2024-02-05</td>\n",
       "      <td>2024-02-05</td>\n",
       "      <td>0</td>\n",
       "    </tr>\n",
       "  </tbody>\n",
       "</table>\n",
       "</div>"
      ],
      "text/plain": [
       "     Order Material Number  Order quantity (GMEIN)  \\\n",
       "0  1054342        01500831                     100   \n",
       "1  1054125        01500833                     100   \n",
       "2  1054086        01500835                     100   \n",
       "3  1054206        01500836                     100   \n",
       "4  1054181        01500838                     100   \n",
       "\n",
       "   Confirmed quantity (GMEIN)  Total scrap (GMEIN)  \\\n",
       "0                         100                    0   \n",
       "1                         100                    0   \n",
       "2                         100                    0   \n",
       "3                         100                    0   \n",
       "4                         100                    0   \n",
       "\n",
       "            Material description  Created on Actual finish date  \\\n",
       "0      FLYER, W&I INTERNAL FLYER  2024-03-20         2024-03-21   \n",
       "1              FLYER, TRUE VALUE  2024-01-17         2024-01-17   \n",
       "2  FLYER, ORGILL 2024 SHOW FLYER  2024-01-18         2024-01-18   \n",
       "3    FLYER, DO IT BEST 2024 SHOW  2024-02-12         2024-02-12   \n",
       "4     FLYER, ACE 2024 SHOW FLYER  2024-02-05         2024-02-05   \n",
       "\n",
       "   Time to complete  \n",
       "0                 1  \n",
       "1                 0  \n",
       "2                 0  \n",
       "3                 0  \n",
       "4                 0  "
      ]
     },
     "execution_count": 5,
     "metadata": {},
     "output_type": "execute_result"
    }
   ],
   "source": [
    "Orders.head(5)"
   ]
  },
  {
   "cell_type": "code",
   "execution_count": 6,
   "id": "12f1f091-e776-45cb-aa79-720b1e4b8a6b",
   "metadata": {},
   "outputs": [],
   "source": [
    "#Start by renaming the columns of each dataframe.  Give them pythonic names instead of default labels from SAP.\n",
    "Materials_Processes.columns = [\"Material\",\"Group\",\"Dimensions\"]"
   ]
  },
  {
   "cell_type": "code",
   "execution_count": 7,
   "id": "1f269300-dc25-42f1-b602-1154d7025e59",
   "metadata": {},
   "outputs": [],
   "source": [
    "Orders.columns = [\"WONumber\",\"Material\",\"OrderQuantity\",\"ConfirmedQuantity\",\"TotalScrap\",\"Description\",\"CreationDate\",\"FinishDate\",\"TimeinDays\"]"
   ]
  },
  {
   "cell_type": "code",
   "execution_count": 8,
   "id": "6d11d322-05c6-48ff-9c2d-6546ad2b2a4f",
   "metadata": {},
   "outputs": [
    {
     "data": {
      "text/plain": [
       "array([nan, 'FS', 'UV', 'GL', 'FSTI', 'THTI', 'SVTI', 'GLDX3ASST', 'GLTI',\n",
       "       'GLDX43', 'SVFS', 'FSGL', 'GLDX38', 'FSTH', 'FSMC', 'SVMC', 'QX17',\n",
       "       'SV', 'FSZ', 'FSCX77', 'TI', 'FS2', 'TH', 'CVP1', 'FSCW3', 'GLTH',\n",
       "       'CX75', 'GLZ', 'GLDX46', 'GLEBX-CCC', 'EBX-DDDDX38',\n",
       "       'GLEBX-IIIDX38', 'GLPI', 'PI', 'FSPI', 'GLEBX-TTTPI', 'FSGLPI',\n",
       "       'AU', 'FSGLTI', 'UVTI', 'GLCVP1', 'FSCVP1', 'SVCX80', 'FS2CB7',\n",
       "       'FSCB5', 'CX80', 'THMC', 'MC', 'GLMC', 'UVMC', 'FSGLMC',\n",
       "       'GLEBX-VVVTI', 'GLCX81', 'FSCX83', 'FSGLDX41', 'FS2GL', 'FS2DX38',\n",
       "       'FSEBX-RRR', 'UVDX38', 'THDX4ASST', 'THDX50', 'FSEBX-RRTI',\n",
       "       'IN HOUSE', 'GLEBX-YYY', 'EBX-CC', 'EBX-4', 'EBX-84', 'EBX-75',\n",
       "       'EBX-3', 'EBX-ASST', 'EBX-A', 'EBX-83', 'EBX-88', 'EBX-101',\n",
       "       'GLEBX-OOOPI', 'FS2TI', 'GLEBX-WWW', 'SVFSEBX-XXXTI', 'FSCB21',\n",
       "       'EBX88', 'GLEBX-K', 'DX3ASST', 'DX47', 'GLCX76', 'VP1', 'FSEASST',\n",
       "       'FSGLNT1', 'FS2NT1', 'FS2NT4', 'FSNT4', 'FSNT1', 'FSE1NT2',\n",
       "       'FSE2NT2', 'FSE3NT1', 'FSE4NT3', 'FSE5NT2', 'FSE6NT3', 'FSE7NT2',\n",
       "       'FSGLE8NT1', 'FSGLNT4', 'NS2GL', 'NS2'], dtype=object)"
      ]
     },
     "execution_count": 8,
     "metadata": {},
     "output_type": "execute_result"
    }
   ],
   "source": [
    "#Make a list of the Unique Processes from the processes table.  We will want to split up any compound process descriptions.\n",
    "Materials_Processes[\"Dimensions\"].unique()"
   ]
  },
  {
   "cell_type": "code",
   "execution_count": 9,
   "id": "5ba41692-df15-437e-a0cd-3e02c372f3dc",
   "metadata": {},
   "outputs": [],
   "source": [
    "#We want to also model orders where there is no embellishing process applied to the cards.  Therefore, let's change\n",
    "#records with \"nan\" to \"NoProcess\".\n",
    "Materials_Processes[\"Dimensions\"].fillna(\"NoProcess\", inplace=True)"
   ]
  },
  {
   "cell_type": "code",
   "execution_count": 10,
   "id": "82dcb79e-182d-4e0f-8000-d7759b97918f",
   "metadata": {},
   "outputs": [],
   "source": [
    "#For this first analysis notebook, we only want to determine a model predicting processing times\n",
    "#based on a single process that does not involve a die cut.  So, we will only keep items with noprocess,FS,UV,GL,TI,SV,PI in the set.\n",
    "Single_Processes = Materials_Processes[Materials_Processes[\"Dimensions\"].isin([\"NoProcess\",\"FS\",\"UV\",\"GL\",\"TI\",\"SV\",\"PI\"])]"
   ]
  },
  {
   "cell_type": "code",
   "execution_count": 11,
   "id": "781bdb98-121c-4762-a2d3-1b5dbd524444",
   "metadata": {},
   "outputs": [
    {
     "data": {
      "text/plain": [
       "Dimensions\n",
       "NoProcess    5953\n",
       "GL            427\n",
       "FS            370\n",
       "UV            212\n",
       "SV             79\n",
       "TI             12\n",
       "PI              3\n",
       "Name: count, dtype: int64"
      ]
     },
     "execution_count": 11,
     "metadata": {},
     "output_type": "execute_result"
    }
   ],
   "source": [
    "Single_Processes[\"Dimensions\"].value_counts()"
   ]
  },
  {
   "cell_type": "code",
   "execution_count": 12,
   "id": "d6e5f9a8-eec5-4945-a9ec-ab18ae51c1af",
   "metadata": {},
   "outputs": [],
   "source": [
    "#The above cell informs us that most production orders this year with a single process were either glitter (GL),\n",
    "#Foil (FS), or ultraviolet treatment (UV).  Because these values are most abundant, we will build a model to predict total processing\n",
    "#time based on these three categorical values, as well as the continuous factor, order quantity.  Orders that have more confirmed product (Confirmed Quantity)\n",
    "#we expect to take more time, on average.\n",
    "import statsmodels.api as sm\n",
    "from statsmodels.formula.api import ols"
   ]
  },
  {
   "cell_type": "code",
   "execution_count": 13,
   "id": "c0120964-b1dd-46b6-831d-ad1159c131da",
   "metadata": {},
   "outputs": [],
   "source": [
    "Single_Processes = Single_Processes[Single_Processes[\"Dimensions\"].isin([\"NoProcess\",\"FS\",\"UV\",\"GL\"])]"
   ]
  },
  {
   "cell_type": "code",
   "execution_count": 14,
   "id": "80f52e10-d95e-4e1c-abc4-8ff4c81284ca",
   "metadata": {},
   "outputs": [
    {
     "data": {
      "text/html": [
       "<div>\n",
       "<style scoped>\n",
       "    .dataframe tbody tr th:only-of-type {\n",
       "        vertical-align: middle;\n",
       "    }\n",
       "\n",
       "    .dataframe tbody tr th {\n",
       "        vertical-align: top;\n",
       "    }\n",
       "\n",
       "    .dataframe thead th {\n",
       "        text-align: right;\n",
       "    }\n",
       "</style>\n",
       "<table border=\"1\" class=\"dataframe\">\n",
       "  <thead>\n",
       "    <tr style=\"text-align: right;\">\n",
       "      <th></th>\n",
       "      <th>Material</th>\n",
       "      <th>Group</th>\n",
       "      <th>Dimensions</th>\n",
       "    </tr>\n",
       "  </thead>\n",
       "  <tbody>\n",
       "    <tr>\n",
       "      <th>0</th>\n",
       "      <td>01010110</td>\n",
       "      <td>UNASSIGN</td>\n",
       "      <td>NoProcess</td>\n",
       "    </tr>\n",
       "    <tr>\n",
       "      <th>1</th>\n",
       "      <td>01010133</td>\n",
       "      <td>UNASSIGN</td>\n",
       "      <td>NoProcess</td>\n",
       "    </tr>\n",
       "    <tr>\n",
       "      <th>2</th>\n",
       "      <td>01186971</td>\n",
       "      <td>UNASSIGN</td>\n",
       "      <td>NoProcess</td>\n",
       "    </tr>\n",
       "    <tr>\n",
       "      <th>3</th>\n",
       "      <td>01189202F</td>\n",
       "      <td>UNASSIGN</td>\n",
       "      <td>NoProcess</td>\n",
       "    </tr>\n",
       "    <tr>\n",
       "      <th>4</th>\n",
       "      <td>01189203</td>\n",
       "      <td>UNASSIGN</td>\n",
       "      <td>NoProcess</td>\n",
       "    </tr>\n",
       "  </tbody>\n",
       "</table>\n",
       "</div>"
      ],
      "text/plain": [
       "    Material     Group Dimensions\n",
       "0   01010110  UNASSIGN  NoProcess\n",
       "1   01010133  UNASSIGN  NoProcess\n",
       "2   01186971  UNASSIGN  NoProcess\n",
       "3  01189202F  UNASSIGN  NoProcess\n",
       "4   01189203  UNASSIGN  NoProcess"
      ]
     },
     "execution_count": 14,
     "metadata": {},
     "output_type": "execute_result"
    }
   ],
   "source": [
    "Single_Processes.head(5)"
   ]
  },
  {
   "cell_type": "code",
   "execution_count": 15,
   "id": "c6b03637-61ca-4eaf-bb19-80c1793d1504",
   "metadata": {},
   "outputs": [
    {
     "data": {
      "text/plain": [
       "Dimensions\n",
       "NoProcess    5953\n",
       "GL            427\n",
       "FS            370\n",
       "UV            212\n",
       "Name: count, dtype: int64"
      ]
     },
     "execution_count": 15,
     "metadata": {},
     "output_type": "execute_result"
    }
   ],
   "source": [
    "Single_Processes[\"Dimensions\"].value_counts()"
   ]
  },
  {
   "cell_type": "code",
   "execution_count": 16,
   "id": "21f7e84a-5e3f-4566-95a7-f5fb7af63949",
   "metadata": {},
   "outputs": [
    {
     "data": {
      "text/plain": [
       "Group\n",
       "D12D2        561\n",
       "D12C2        508\n",
       "CXLST2       195\n",
       "D12TN        158\n",
       "CNC100       153\n",
       "CARLA        149\n",
       "D12BN2        99\n",
       "D12B2         95\n",
       "UNASSIGN      58\n",
       "DNC100        57\n",
       "ASSTXMAS      50\n",
       "SDXTIP        47\n",
       "D12Y2         46\n",
       "SCLTIP        37\n",
       "MAGLP         37\n",
       "EPSCP         34\n",
       "MAGNT         31\n",
       "EPSDP         29\n",
       "ASSTEVDAY     28\n",
       "NOTEPADSM     26\n",
       "MAGRT         25\n",
       "EPSCB         22\n",
       "ASSTNOTED     22\n",
       "D12Q2         21\n",
       "D12P2         16\n",
       "STAT          12\n",
       "HDXTIP        12\n",
       "MAGSQ         12\n",
       "BOOKMARKS     11\n",
       "D12L2         11\n",
       "NNC100        11\n",
       "EPSDB         10\n",
       "QNC100         8\n",
       "EPSNP          8\n",
       "EPSNL          6\n",
       "ASST           6\n",
       "EPSYC          5\n",
       "DNC130         4\n",
       "BAN            2\n",
       "EPSQP          2\n",
       "EPSN           2\n",
       "RACKC          1\n",
       "HCLTIP         1\n",
       "EPSC           1\n",
       "MAGRD          1\n",
       "Name: count, dtype: int64"
      ]
     },
     "execution_count": 16,
     "metadata": {},
     "output_type": "execute_result"
    }
   ],
   "source": [
    "#Now, let's look at the unique material groups we have left.  It's quite a few, and because we are mostly interested in cards,\n",
    "#rather than other products like magnet list pads, notepads, etc, we will further pare down the data to only include D12D2 and D12C2\n",
    "#(classic and deluxe sized cards).\n",
    "Single_Processes[\"Group\"].value_counts()"
   ]
  },
  {
   "cell_type": "code",
   "execution_count": 17,
   "id": "371f4018-1ccd-42bb-882c-92e8430d6ed0",
   "metadata": {},
   "outputs": [],
   "source": [
    "Single_Processes = Single_Processes[Single_Processes[\"Group\"].isin([\"D12D2\", \"D12C2\"])]"
   ]
  },
  {
   "cell_type": "code",
   "execution_count": 18,
   "id": "891ce4dd-0f95-45ae-81a7-9cac92b26b33",
   "metadata": {},
   "outputs": [
    {
     "data": {
      "text/plain": [
       "Dimensions\n",
       "NoProcess    528\n",
       "GL           199\n",
       "UV           189\n",
       "FS           153\n",
       "Name: count, dtype: int64"
      ]
     },
     "execution_count": 18,
     "metadata": {},
     "output_type": "execute_result"
    }
   ],
   "source": [
    "Single_Processes[\"Dimensions\"].value_counts()"
   ]
  },
  {
   "cell_type": "code",
   "execution_count": 19,
   "id": "a99e5541-9cbf-4ff4-b81a-93a6f4b8850c",
   "metadata": {},
   "outputs": [
    {
     "data": {
      "text/plain": [
       "Group\n",
       "D12D2    561\n",
       "D12C2    508\n",
       "Name: count, dtype: int64"
      ]
     },
     "execution_count": 19,
     "metadata": {},
     "output_type": "execute_result"
    }
   ],
   "source": [
    "Single_Processes[\"Group\"].value_counts()"
   ]
  },
  {
   "cell_type": "code",
   "execution_count": 20,
   "id": "8e7e6105-4972-4ff7-b867-f3247dcafefd",
   "metadata": {},
   "outputs": [],
   "source": [
    "#For the data that we want to put into an ordinary least squares (ols) model, let's create a new table with fields\n",
    "#ConfirmedQuantity,Dimensions,TimeinDays.\n",
    "\n",
    "#To do this, we will need to match the order data from the orders table to the processes data, using the Material as the inner join key.\n",
    "ModelData = pd.merge(Orders[[\"Material\",\"ConfirmedQuantity\",\"TimeinDays\"]], Single_Processes[[\"Material\",\"Dimensions\"]],how='inner',on=\"Material\")"
   ]
  },
  {
   "cell_type": "code",
   "execution_count": 21,
   "id": "9a1f0b2f-3dff-4b24-9f6e-4cdd4b247a66",
   "metadata": {},
   "outputs": [
    {
     "data": {
      "text/html": [
       "<div>\n",
       "<style scoped>\n",
       "    .dataframe tbody tr th:only-of-type {\n",
       "        vertical-align: middle;\n",
       "    }\n",
       "\n",
       "    .dataframe tbody tr th {\n",
       "        vertical-align: top;\n",
       "    }\n",
       "\n",
       "    .dataframe thead th {\n",
       "        text-align: right;\n",
       "    }\n",
       "</style>\n",
       "<table border=\"1\" class=\"dataframe\">\n",
       "  <thead>\n",
       "    <tr style=\"text-align: right;\">\n",
       "      <th></th>\n",
       "      <th>Material</th>\n",
       "      <th>ConfirmedQuantity</th>\n",
       "      <th>TimeinDays</th>\n",
       "      <th>Dimensions</th>\n",
       "    </tr>\n",
       "  </thead>\n",
       "  <tbody>\n",
       "    <tr>\n",
       "      <th>0</th>\n",
       "      <td>01500830</td>\n",
       "      <td>5736</td>\n",
       "      <td>20</td>\n",
       "      <td>NoProcess</td>\n",
       "    </tr>\n",
       "    <tr>\n",
       "      <th>1</th>\n",
       "      <td>01500882</td>\n",
       "      <td>5280</td>\n",
       "      <td>32</td>\n",
       "      <td>NoProcess</td>\n",
       "    </tr>\n",
       "    <tr>\n",
       "      <th>2</th>\n",
       "      <td>10624</td>\n",
       "      <td>169</td>\n",
       "      <td>9</td>\n",
       "      <td>UV</td>\n",
       "    </tr>\n",
       "    <tr>\n",
       "      <th>3</th>\n",
       "      <td>10630</td>\n",
       "      <td>160</td>\n",
       "      <td>46</td>\n",
       "      <td>NoProcess</td>\n",
       "    </tr>\n",
       "    <tr>\n",
       "      <th>4</th>\n",
       "      <td>10805</td>\n",
       "      <td>173</td>\n",
       "      <td>14</td>\n",
       "      <td>NoProcess</td>\n",
       "    </tr>\n",
       "  </tbody>\n",
       "</table>\n",
       "</div>"
      ],
      "text/plain": [
       "   Material  ConfirmedQuantity  TimeinDays Dimensions\n",
       "0  01500830               5736          20  NoProcess\n",
       "1  01500882               5280          32  NoProcess\n",
       "2     10624                169           9         UV\n",
       "3     10630                160          46  NoProcess\n",
       "4     10805                173          14  NoProcess"
      ]
     },
     "execution_count": 21,
     "metadata": {},
     "output_type": "execute_result"
    }
   ],
   "source": [
    "ModelData.head()"
   ]
  },
  {
   "cell_type": "code",
   "execution_count": null,
   "id": "31ab9d41-2b98-4232-9d6f-ee22f0b9a1ff",
   "metadata": {},
   "outputs": [],
   "source": []
  },
  {
   "cell_type": "code",
   "execution_count": 22,
   "id": "3be89c8d-3389-42d0-a969-2c64ddd7d6b3",
   "metadata": {},
   "outputs": [],
   "source": [
    "#For a first model, let's study if there is a linear correlations between quantity confirmed and time.\n",
    "formula1 = \"TimeinDays ~ ConfirmedQuantity\""
   ]
  },
  {
   "cell_type": "code",
   "execution_count": 23,
   "id": "b4197fd4-6001-44f9-9363-eff533c2c9b2",
   "metadata": {},
   "outputs": [],
   "source": [
    "model1 = ols(formula=formula1, data=ModelData).fit()"
   ]
  },
  {
   "cell_type": "code",
   "execution_count": 24,
   "id": "bf17895a-52f1-4cc9-b8b3-96832d944d19",
   "metadata": {},
   "outputs": [
    {
     "data": {
      "text/html": [
       "<table class=\"simpletable\">\n",
       "<caption>OLS Regression Results</caption>\n",
       "<tr>\n",
       "  <th>Dep. Variable:</th>       <td>TimeinDays</td>    <th>  R-squared:         </th> <td>   0.000</td> \n",
       "</tr>\n",
       "<tr>\n",
       "  <th>Model:</th>                   <td>OLS</td>       <th>  Adj. R-squared:    </th> <td>  -0.000</td> \n",
       "</tr>\n",
       "<tr>\n",
       "  <th>Method:</th>             <td>Least Squares</td>  <th>  F-statistic:       </th> <td>  0.1266</td> \n",
       "</tr>\n",
       "<tr>\n",
       "  <th>Date:</th>             <td>Sun, 23 Jun 2024</td> <th>  Prob (F-statistic):</th>  <td> 0.722</td>  \n",
       "</tr>\n",
       "<tr>\n",
       "  <th>Time:</th>                 <td>16:27:35</td>     <th>  Log-Likelihood:    </th> <td> -10812.</td> \n",
       "</tr>\n",
       "<tr>\n",
       "  <th>No. Observations:</th>      <td>  2582</td>      <th>  AIC:               </th> <td>2.163e+04</td>\n",
       "</tr>\n",
       "<tr>\n",
       "  <th>Df Residuals:</th>          <td>  2580</td>      <th>  BIC:               </th> <td>2.164e+04</td>\n",
       "</tr>\n",
       "<tr>\n",
       "  <th>Df Model:</th>              <td>     1</td>      <th>                     </th>     <td> </td>    \n",
       "</tr>\n",
       "<tr>\n",
       "  <th>Covariance Type:</th>      <td>nonrobust</td>    <th>                     </th>     <td> </td>    \n",
       "</tr>\n",
       "</table>\n",
       "<table class=\"simpletable\">\n",
       "<tr>\n",
       "          <td></td>             <th>coef</th>     <th>std err</th>      <th>t</th>      <th>P>|t|</th>  <th>[0.025</th>    <th>0.975]</th>  \n",
       "</tr>\n",
       "<tr>\n",
       "  <th>Intercept</th>         <td>   26.5892</td> <td>    0.413</td> <td>   64.326</td> <td> 0.000</td> <td>   25.779</td> <td>   27.400</td>\n",
       "</tr>\n",
       "<tr>\n",
       "  <th>ConfirmedQuantity</th> <td>   -0.0003</td> <td>    0.001</td> <td>   -0.356</td> <td> 0.722</td> <td>   -0.002</td> <td>    0.001</td>\n",
       "</tr>\n",
       "</table>\n",
       "<table class=\"simpletable\">\n",
       "<tr>\n",
       "  <th>Omnibus:</th>       <td>351.428</td> <th>  Durbin-Watson:     </th> <td>   1.658</td> \n",
       "</tr>\n",
       "<tr>\n",
       "  <th>Prob(Omnibus):</th> <td> 0.000</td>  <th>  Jarque-Bera (JB):  </th> <td> 508.286</td> \n",
       "</tr>\n",
       "<tr>\n",
       "  <th>Skew:</th>          <td> 1.075</td>  <th>  Prob(JB):          </th> <td>4.24e-111</td>\n",
       "</tr>\n",
       "<tr>\n",
       "  <th>Kurtosis:</th>      <td> 3.320</td>  <th>  Cond. No.          </th> <td>    701.</td> \n",
       "</tr>\n",
       "</table><br/><br/>Notes:<br/>[1] Standard Errors assume that the covariance matrix of the errors is correctly specified."
      ],
      "text/latex": [
       "\\begin{center}\n",
       "\\begin{tabular}{lclc}\n",
       "\\toprule\n",
       "\\textbf{Dep. Variable:}    &    TimeinDays    & \\textbf{  R-squared:         } &     0.000   \\\\\n",
       "\\textbf{Model:}            &       OLS        & \\textbf{  Adj. R-squared:    } &    -0.000   \\\\\n",
       "\\textbf{Method:}           &  Least Squares   & \\textbf{  F-statistic:       } &    0.1266   \\\\\n",
       "\\textbf{Date:}             & Sun, 23 Jun 2024 & \\textbf{  Prob (F-statistic):} &    0.722    \\\\\n",
       "\\textbf{Time:}             &     16:27:35     & \\textbf{  Log-Likelihood:    } &   -10812.   \\\\\n",
       "\\textbf{No. Observations:} &        2582      & \\textbf{  AIC:               } & 2.163e+04   \\\\\n",
       "\\textbf{Df Residuals:}     &        2580      & \\textbf{  BIC:               } & 2.164e+04   \\\\\n",
       "\\textbf{Df Model:}         &           1      & \\textbf{                     } &             \\\\\n",
       "\\textbf{Covariance Type:}  &    nonrobust     & \\textbf{                     } &             \\\\\n",
       "\\bottomrule\n",
       "\\end{tabular}\n",
       "\\begin{tabular}{lcccccc}\n",
       "                           & \\textbf{coef} & \\textbf{std err} & \\textbf{t} & \\textbf{P$> |$t$|$} & \\textbf{[0.025} & \\textbf{0.975]}  \\\\\n",
       "\\midrule\n",
       "\\textbf{Intercept}         &      26.5892  &        0.413     &    64.326  &         0.000        &       25.779    &       27.400     \\\\\n",
       "\\textbf{ConfirmedQuantity} &      -0.0003  &        0.001     &    -0.356  &         0.722        &       -0.002    &        0.001     \\\\\n",
       "\\bottomrule\n",
       "\\end{tabular}\n",
       "\\begin{tabular}{lclc}\n",
       "\\textbf{Omnibus:}       & 351.428 & \\textbf{  Durbin-Watson:     } &     1.658  \\\\\n",
       "\\textbf{Prob(Omnibus):} &   0.000 & \\textbf{  Jarque-Bera (JB):  } &   508.286  \\\\\n",
       "\\textbf{Skew:}          &   1.075 & \\textbf{  Prob(JB):          } & 4.24e-111  \\\\\n",
       "\\textbf{Kurtosis:}      &   3.320 & \\textbf{  Cond. No.          } &      701.  \\\\\n",
       "\\bottomrule\n",
       "\\end{tabular}\n",
       "%\\caption{OLS Regression Results}\n",
       "\\end{center}\n",
       "\n",
       "Notes: \\newline\n",
       " [1] Standard Errors assume that the covariance matrix of the errors is correctly specified."
      ],
      "text/plain": [
       "<class 'statsmodels.iolib.summary.Summary'>\n",
       "\"\"\"\n",
       "                            OLS Regression Results                            \n",
       "==============================================================================\n",
       "Dep. Variable:             TimeinDays   R-squared:                       0.000\n",
       "Model:                            OLS   Adj. R-squared:                 -0.000\n",
       "Method:                 Least Squares   F-statistic:                    0.1266\n",
       "Date:                Sun, 23 Jun 2024   Prob (F-statistic):              0.722\n",
       "Time:                        16:27:35   Log-Likelihood:                -10812.\n",
       "No. Observations:                2582   AIC:                         2.163e+04\n",
       "Df Residuals:                    2580   BIC:                         2.164e+04\n",
       "Df Model:                           1                                         \n",
       "Covariance Type:            nonrobust                                         \n",
       "=====================================================================================\n",
       "                        coef    std err          t      P>|t|      [0.025      0.975]\n",
       "-------------------------------------------------------------------------------------\n",
       "Intercept            26.5892      0.413     64.326      0.000      25.779      27.400\n",
       "ConfirmedQuantity    -0.0003      0.001     -0.356      0.722      -0.002       0.001\n",
       "==============================================================================\n",
       "Omnibus:                      351.428   Durbin-Watson:                   1.658\n",
       "Prob(Omnibus):                  0.000   Jarque-Bera (JB):              508.286\n",
       "Skew:                           1.075   Prob(JB):                    4.24e-111\n",
       "Kurtosis:                       3.320   Cond. No.                         701.\n",
       "==============================================================================\n",
       "\n",
       "Notes:\n",
       "[1] Standard Errors assume that the covariance matrix of the errors is correctly specified.\n",
       "\"\"\""
      ]
     },
     "execution_count": 24,
     "metadata": {},
     "output_type": "execute_result"
    }
   ],
   "source": [
    "model1.summary()"
   ]
  },
  {
   "cell_type": "code",
   "execution_count": 25,
   "id": "cb079498-0d8f-4c9d-8e23-af68647ca058",
   "metadata": {},
   "outputs": [
    {
     "data": {
      "text/plain": [
       "<seaborn.axisgrid.FacetGrid at 0x2c11e5b3490>"
      ]
     },
     "execution_count": 25,
     "metadata": {},
     "output_type": "execute_result"
    },
    {
     "data": {
      "image/png": "[encoded data removed]",
      "text/plain": [
       "<Figure size 500x500 with 1 Axes>"
      ]
     },
     "metadata": {},
     "output_type": "display_data"
    }
   ],
   "source": [
    "#This is definitely not promising.  P-value is very large, and it is easier to see the lack of correlation with a plot.\n",
    "sns.lmplot(data=ModelData,x=\"ConfirmedQuantity\",y=\"TimeinDays\")"
   ]
  },
  {
   "cell_type": "code",
   "execution_count": 26,
   "id": "3814b53d-e2ac-4348-802d-90126a862841",
   "metadata": {},
   "outputs": [],
   "source": [
    "#This might just be because we apparently have some far outliers for confirmed quantity.  We are most interested in standard\n",
    "#order size, which is usually between 166 and 666.  So, we will restrict the quantity confirmed to withing a small range.\n",
    "ModelData = ModelData[(ModelData[\"ConfirmedQuantity\"] > 0) & (ModelData[\"ConfirmedQuantity\"] < 666)]"
   ]
  },
  {
   "cell_type": "code",
   "execution_count": 27,
   "id": "6a9e350b-a058-4ce1-8cb1-197e69a8373c",
   "metadata": {},
   "outputs": [
    {
     "data": {
      "text/plain": [
       "Dimensions\n",
       "NoProcess    1248\n",
       "GL            477\n",
       "UV            467\n",
       "FS            338\n",
       "Name: count, dtype: int64"
      ]
     },
     "execution_count": 27,
     "metadata": {},
     "output_type": "execute_result"
    }
   ],
   "source": [
    "ModelData[\"Dimensions\"].value_counts()"
   ]
  },
  {
   "cell_type": "code",
   "execution_count": 28,
   "id": "c5b99fed-df66-480a-9efc-540e3233152b",
   "metadata": {},
   "outputs": [],
   "source": [
    "model1 = ols(formula=formula1, data=ModelData).fit()"
   ]
  },
  {
   "cell_type": "code",
   "execution_count": 29,
   "id": "e03e36ef-2fa0-4acb-afdd-3b1ca130cf5b",
   "metadata": {},
   "outputs": [
    {
     "data": {
      "text/html": [
       "<table class=\"simpletable\">\n",
       "<caption>OLS Regression Results</caption>\n",
       "<tr>\n",
       "  <th>Dep. Variable:</th>       <td>TimeinDays</td>    <th>  R-squared:         </th> <td>   0.016</td> \n",
       "</tr>\n",
       "<tr>\n",
       "  <th>Model:</th>                   <td>OLS</td>       <th>  Adj. R-squared:    </th> <td>   0.016</td> \n",
       "</tr>\n",
       "<tr>\n",
       "  <th>Method:</th>             <td>Least Squares</td>  <th>  F-statistic:       </th> <td>   41.27</td> \n",
       "</tr>\n",
       "<tr>\n",
       "  <th>Date:</th>             <td>Sun, 23 Jun 2024</td> <th>  Prob (F-statistic):</th> <td>1.58e-10</td> \n",
       "</tr>\n",
       "<tr>\n",
       "  <th>Time:</th>                 <td>16:27:36</td>     <th>  Log-Likelihood:    </th> <td> -10587.</td> \n",
       "</tr>\n",
       "<tr>\n",
       "  <th>No. Observations:</th>      <td>  2530</td>      <th>  AIC:               </th> <td>2.118e+04</td>\n",
       "</tr>\n",
       "<tr>\n",
       "  <th>Df Residuals:</th>          <td>  2528</td>      <th>  BIC:               </th> <td>2.119e+04</td>\n",
       "</tr>\n",
       "<tr>\n",
       "  <th>Df Model:</th>              <td>     1</td>      <th>                     </th>     <td> </td>    \n",
       "</tr>\n",
       "<tr>\n",
       "  <th>Covariance Type:</th>      <td>nonrobust</td>    <th>                     </th>     <td> </td>    \n",
       "</tr>\n",
       "</table>\n",
       "<table class=\"simpletable\">\n",
       "<tr>\n",
       "          <td></td>             <th>coef</th>     <th>std err</th>      <th>t</th>      <th>P>|t|</th>  <th>[0.025</th>    <th>0.975]</th>  \n",
       "</tr>\n",
       "<tr>\n",
       "  <th>Intercept</th>         <td>   17.5377</td> <td>    1.445</td> <td>   12.135</td> <td> 0.000</td> <td>   14.704</td> <td>   20.372</td>\n",
       "</tr>\n",
       "<tr>\n",
       "  <th>ConfirmedQuantity</th> <td>    0.0293</td> <td>    0.005</td> <td>    6.424</td> <td> 0.000</td> <td>    0.020</td> <td>    0.038</td>\n",
       "</tr>\n",
       "</table>\n",
       "<table class=\"simpletable\">\n",
       "<tr>\n",
       "  <th>Omnibus:</th>       <td>325.406</td> <th>  Durbin-Watson:     </th> <td>   1.653</td> \n",
       "</tr>\n",
       "<tr>\n",
       "  <th>Prob(Omnibus):</th> <td> 0.000</td>  <th>  Jarque-Bera (JB):  </th> <td> 462.946</td> \n",
       "</tr>\n",
       "<tr>\n",
       "  <th>Skew:</th>          <td> 1.041</td>  <th>  Prob(JB):          </th> <td>2.97e-101</td>\n",
       "</tr>\n",
       "<tr>\n",
       "  <th>Kurtosis:</th>      <td> 3.232</td>  <th>  Cond. No.          </th> <td>1.45e+03</td> \n",
       "</tr>\n",
       "</table><br/><br/>Notes:<br/>[1] Standard Errors assume that the covariance matrix of the errors is correctly specified.<br/>[2] The condition number is large, 1.45e+03. This might indicate that there are<br/>strong multicollinearity or other numerical problems."
      ],
      "text/latex": [
       "\\begin{center}\n",
       "\\begin{tabular}{lclc}\n",
       "\\toprule\n",
       "\\textbf{Dep. Variable:}    &    TimeinDays    & \\textbf{  R-squared:         } &     0.016   \\\\\n",
       "\\textbf{Model:}            &       OLS        & \\textbf{  Adj. R-squared:    } &     0.016   \\\\\n",
       "\\textbf{Method:}           &  Least Squares   & \\textbf{  F-statistic:       } &     41.27   \\\\\n",
       "\\textbf{Date:}             & Sun, 23 Jun 2024 & \\textbf{  Prob (F-statistic):} &  1.58e-10   \\\\\n",
       "\\textbf{Time:}             &     16:27:36     & \\textbf{  Log-Likelihood:    } &   -10587.   \\\\\n",
       "\\textbf{No. Observations:} &        2530      & \\textbf{  AIC:               } & 2.118e+04   \\\\\n",
       "\\textbf{Df Residuals:}     &        2528      & \\textbf{  BIC:               } & 2.119e+04   \\\\\n",
       "\\textbf{Df Model:}         &           1      & \\textbf{                     } &             \\\\\n",
       "\\textbf{Covariance Type:}  &    nonrobust     & \\textbf{                     } &             \\\\\n",
       "\\bottomrule\n",
       "\\end{tabular}\n",
       "\\begin{tabular}{lcccccc}\n",
       "                           & \\textbf{coef} & \\textbf{std err} & \\textbf{t} & \\textbf{P$> |$t$|$} & \\textbf{[0.025} & \\textbf{0.975]}  \\\\\n",
       "\\midrule\n",
       "\\textbf{Intercept}         &      17.5377  &        1.445     &    12.135  &         0.000        &       14.704    &       20.372     \\\\\n",
       "\\textbf{ConfirmedQuantity} &       0.0293  &        0.005     &     6.424  &         0.000        &        0.020    &        0.038     \\\\\n",
       "\\bottomrule\n",
       "\\end{tabular}\n",
       "\\begin{tabular}{lclc}\n",
       "\\textbf{Omnibus:}       & 325.406 & \\textbf{  Durbin-Watson:     } &     1.653  \\\\\n",
       "\\textbf{Prob(Omnibus):} &   0.000 & \\textbf{  Jarque-Bera (JB):  } &   462.946  \\\\\n",
       "\\textbf{Skew:}          &   1.041 & \\textbf{  Prob(JB):          } & 2.97e-101  \\\\\n",
       "\\textbf{Kurtosis:}      &   3.232 & \\textbf{  Cond. No.          } &  1.45e+03  \\\\\n",
       "\\bottomrule\n",
       "\\end{tabular}\n",
       "%\\caption{OLS Regression Results}\n",
       "\\end{center}\n",
       "\n",
       "Notes: \\newline\n",
       " [1] Standard Errors assume that the covariance matrix of the errors is correctly specified. \\newline\n",
       " [2] The condition number is large, 1.45e+03. This might indicate that there are \\newline\n",
       " strong multicollinearity or other numerical problems."
      ],
      "text/plain": [
       "<class 'statsmodels.iolib.summary.Summary'>\n",
       "\"\"\"\n",
       "                            OLS Regression Results                            \n",
       "==============================================================================\n",
       "Dep. Variable:             TimeinDays   R-squared:                       0.016\n",
       "Model:                            OLS   Adj. R-squared:                  0.016\n",
       "Method:                 Least Squares   F-statistic:                     41.27\n",
       "Date:                Sun, 23 Jun 2024   Prob (F-statistic):           1.58e-10\n",
       "Time:                        16:27:36   Log-Likelihood:                -10587.\n",
       "No. Observations:                2530   AIC:                         2.118e+04\n",
       "Df Residuals:                    2528   BIC:                         2.119e+04\n",
       "Df Model:                           1                                         \n",
       "Covariance Type:            nonrobust                                         \n",
       "=====================================================================================\n",
       "                        coef    std err          t      P>|t|      [0.025      0.975]\n",
       "-------------------------------------------------------------------------------------\n",
       "Intercept            17.5377      1.445     12.135      0.000      14.704      20.372\n",
       "ConfirmedQuantity     0.0293      0.005      6.424      0.000       0.020       0.038\n",
       "==============================================================================\n",
       "Omnibus:                      325.406   Durbin-Watson:                   1.653\n",
       "Prob(Omnibus):                  0.000   Jarque-Bera (JB):              462.946\n",
       "Skew:                           1.041   Prob(JB):                    2.97e-101\n",
       "Kurtosis:                       3.232   Cond. No.                     1.45e+03\n",
       "==============================================================================\n",
       "\n",
       "Notes:\n",
       "[1] Standard Errors assume that the covariance matrix of the errors is correctly specified.\n",
       "[2] The condition number is large, 1.45e+03. This might indicate that there are\n",
       "strong multicollinearity or other numerical problems.\n",
       "\"\"\""
      ]
     },
     "execution_count": 29,
     "metadata": {},
     "output_type": "execute_result"
    }
   ],
   "source": [
    "model1.summary()"
   ]
  },
  {
   "cell_type": "code",
   "execution_count": 30,
   "id": "1c647a03-3ab4-4689-b8af-7884cf33b78a",
   "metadata": {},
   "outputs": [
    {
     "data": {
      "text/plain": [
       "<seaborn.axisgrid.FacetGrid at 0x2c117abaf10>"
      ]
     },
     "execution_count": 30,
     "metadata": {},
     "output_type": "execute_result"
    },
    {
     "data": {
      "image/png": "[encoded data removed]",
      "text/plain": [
       "<Figure size 500x500 with 1 Axes>"
      ]
     },
     "metadata": {},
     "output_type": "display_data"
    }
   ],
   "source": [
    "#That's more like it!!  Let's check the lmplot.\n",
    "sns.lmplot(data=ModelData,x=\"ConfirmedQuantity\",y=\"TimeinDays\")"
   ]
  },
  {
   "cell_type": "code",
   "execution_count": 31,
   "id": "5c2a5b33-dcdf-4ae0-bc42-aec715142f47",
   "metadata": {},
   "outputs": [
    {
     "data": {
      "text/html": [
       "<table class=\"simpletable\">\n",
       "<caption>OLS Regression Results</caption>\n",
       "<tr>\n",
       "  <th>Dep. Variable:</th>       <td>TimeinDays</td>    <th>  R-squared:         </th> <td>   0.007</td> \n",
       "</tr>\n",
       "<tr>\n",
       "  <th>Model:</th>                   <td>OLS</td>       <th>  Adj. R-squared:    </th> <td>   0.006</td> \n",
       "</tr>\n",
       "<tr>\n",
       "  <th>Method:</th>             <td>Least Squares</td>  <th>  F-statistic:       </th> <td>   5.741</td> \n",
       "</tr>\n",
       "<tr>\n",
       "  <th>Date:</th>             <td>Sun, 23 Jun 2024</td> <th>  Prob (F-statistic):</th> <td>0.000652</td> \n",
       "</tr>\n",
       "<tr>\n",
       "  <th>Time:</th>                 <td>16:27:36</td>     <th>  Log-Likelihood:    </th> <td> -10599.</td> \n",
       "</tr>\n",
       "<tr>\n",
       "  <th>No. Observations:</th>      <td>  2530</td>      <th>  AIC:               </th> <td>2.121e+04</td>\n",
       "</tr>\n",
       "<tr>\n",
       "  <th>Df Residuals:</th>          <td>  2526</td>      <th>  BIC:               </th> <td>2.123e+04</td>\n",
       "</tr>\n",
       "<tr>\n",
       "  <th>Df Model:</th>              <td>     3</td>      <th>                     </th>     <td> </td>    \n",
       "</tr>\n",
       "<tr>\n",
       "  <th>Covariance Type:</th>      <td>nonrobust</td>    <th>                     </th>     <td> </td>    \n",
       "</tr>\n",
       "</table>\n",
       "<table class=\"simpletable\">\n",
       "<tr>\n",
       "               <td></td>                 <th>coef</th>     <th>std err</th>      <th>t</th>      <th>P>|t|</th>  <th>[0.025</th>    <th>0.975]</th>  \n",
       "</tr>\n",
       "<tr>\n",
       "  <th>Intercept</th>                  <td>   29.0000</td> <td>    0.869</td> <td>   33.370</td> <td> 0.000</td> <td>   27.296</td> <td>   30.704</td>\n",
       "</tr>\n",
       "<tr>\n",
       "  <th>C(Dimensions)[T.GL]</th>        <td>   -1.0755</td> <td>    1.136</td> <td>   -0.947</td> <td> 0.344</td> <td>   -3.303</td> <td>    1.152</td>\n",
       "</tr>\n",
       "<tr>\n",
       "  <th>C(Dimensions)[T.NoProcess]</th> <td>   -3.5361</td> <td>    0.980</td> <td>   -3.609</td> <td> 0.000</td> <td>   -5.457</td> <td>   -1.615</td>\n",
       "</tr>\n",
       "<tr>\n",
       "  <th>C(Dimensions)[T.UV]</th>        <td>   -2.4690</td> <td>    1.141</td> <td>   -2.164</td> <td> 0.031</td> <td>   -4.706</td> <td>   -0.232</td>\n",
       "</tr>\n",
       "</table>\n",
       "<table class=\"simpletable\">\n",
       "<tr>\n",
       "  <th>Omnibus:</th>       <td>369.450</td> <th>  Durbin-Watson:     </th> <td>   1.662</td> \n",
       "</tr>\n",
       "<tr>\n",
       "  <th>Prob(Omnibus):</th> <td> 0.000</td>  <th>  Jarque-Bera (JB):  </th> <td> 546.880</td> \n",
       "</tr>\n",
       "<tr>\n",
       "  <th>Skew:</th>          <td> 1.121</td>  <th>  Prob(JB):          </th> <td>1.76e-119</td>\n",
       "</tr>\n",
       "<tr>\n",
       "  <th>Kurtosis:</th>      <td> 3.397</td>  <th>  Cond. No.          </th> <td>    6.69</td> \n",
       "</tr>\n",
       "</table><br/><br/>Notes:<br/>[1] Standard Errors assume that the covariance matrix of the errors is correctly specified."
      ],
      "text/latex": [
       "\\begin{center}\n",
       "\\begin{tabular}{lclc}\n",
       "\\toprule\n",
       "\\textbf{Dep. Variable:}             &    TimeinDays    & \\textbf{  R-squared:         } &     0.007   \\\\\n",
       "\\textbf{Model:}                     &       OLS        & \\textbf{  Adj. R-squared:    } &     0.006   \\\\\n",
       "\\textbf{Method:}                    &  Least Squares   & \\textbf{  F-statistic:       } &     5.741   \\\\\n",
       "\\textbf{Date:}                      & Sun, 23 Jun 2024 & \\textbf{  Prob (F-statistic):} &  0.000652   \\\\\n",
       "\\textbf{Time:}                      &     16:27:36     & \\textbf{  Log-Likelihood:    } &   -10599.   \\\\\n",
       "\\textbf{No. Observations:}          &        2530      & \\textbf{  AIC:               } & 2.121e+04   \\\\\n",
       "\\textbf{Df Residuals:}              &        2526      & \\textbf{  BIC:               } & 2.123e+04   \\\\\n",
       "\\textbf{Df Model:}                  &           3      & \\textbf{                     } &             \\\\\n",
       "\\textbf{Covariance Type:}           &    nonrobust     & \\textbf{                     } &             \\\\\n",
       "\\bottomrule\n",
       "\\end{tabular}\n",
       "\\begin{tabular}{lcccccc}\n",
       "                                    & \\textbf{coef} & \\textbf{std err} & \\textbf{t} & \\textbf{P$> |$t$|$} & \\textbf{[0.025} & \\textbf{0.975]}  \\\\\n",
       "\\midrule\n",
       "\\textbf{Intercept}                  &      29.0000  &        0.869     &    33.370  &         0.000        &       27.296    &       30.704     \\\\\n",
       "\\textbf{C(Dimensions)[T.GL]}        &      -1.0755  &        1.136     &    -0.947  &         0.344        &       -3.303    &        1.152     \\\\\n",
       "\\textbf{C(Dimensions)[T.NoProcess]} &      -3.5361  &        0.980     &    -3.609  &         0.000        &       -5.457    &       -1.615     \\\\\n",
       "\\textbf{C(Dimensions)[T.UV]}        &      -2.4690  &        1.141     &    -2.164  &         0.031        &       -4.706    &       -0.232     \\\\\n",
       "\\bottomrule\n",
       "\\end{tabular}\n",
       "\\begin{tabular}{lclc}\n",
       "\\textbf{Omnibus:}       & 369.450 & \\textbf{  Durbin-Watson:     } &     1.662  \\\\\n",
       "\\textbf{Prob(Omnibus):} &   0.000 & \\textbf{  Jarque-Bera (JB):  } &   546.880  \\\\\n",
       "\\textbf{Skew:}          &   1.121 & \\textbf{  Prob(JB):          } & 1.76e-119  \\\\\n",
       "\\textbf{Kurtosis:}      &   3.397 & \\textbf{  Cond. No.          } &      6.69  \\\\\n",
       "\\bottomrule\n",
       "\\end{tabular}\n",
       "%\\caption{OLS Regression Results}\n",
       "\\end{center}\n",
       "\n",
       "Notes: \\newline\n",
       " [1] Standard Errors assume that the covariance matrix of the errors is correctly specified."
      ],
      "text/plain": [
       "<class 'statsmodels.iolib.summary.Summary'>\n",
       "\"\"\"\n",
       "                            OLS Regression Results                            \n",
       "==============================================================================\n",
       "Dep. Variable:             TimeinDays   R-squared:                       0.007\n",
       "Model:                            OLS   Adj. R-squared:                  0.006\n",
       "Method:                 Least Squares   F-statistic:                     5.741\n",
       "Date:                Sun, 23 Jun 2024   Prob (F-statistic):           0.000652\n",
       "Time:                        16:27:36   Log-Likelihood:                -10599.\n",
       "No. Observations:                2530   AIC:                         2.121e+04\n",
       "Df Residuals:                    2526   BIC:                         2.123e+04\n",
       "Df Model:                           3                                         \n",
       "Covariance Type:            nonrobust                                         \n",
       "==============================================================================================\n",
       "                                 coef    std err          t      P>|t|      [0.025      0.975]\n",
       "----------------------------------------------------------------------------------------------\n",
       "Intercept                     29.0000      0.869     33.370      0.000      27.296      30.704\n",
       "C(Dimensions)[T.GL]           -1.0755      1.136     -0.947      0.344      -3.303       1.152\n",
       "C(Dimensions)[T.NoProcess]    -3.5361      0.980     -3.609      0.000      -5.457      -1.615\n",
       "C(Dimensions)[T.UV]           -2.4690      1.141     -2.164      0.031      -4.706      -0.232\n",
       "==============================================================================\n",
       "Omnibus:                      369.450   Durbin-Watson:                   1.662\n",
       "Prob(Omnibus):                  0.000   Jarque-Bera (JB):              546.880\n",
       "Skew:                           1.121   Prob(JB):                    1.76e-119\n",
       "Kurtosis:                       3.397   Cond. No.                         6.69\n",
       "==============================================================================\n",
       "\n",
       "Notes:\n",
       "[1] Standard Errors assume that the covariance matrix of the errors is correctly specified.\n",
       "\"\"\""
      ]
     },
     "execution_count": 31,
     "metadata": {},
     "output_type": "execute_result"
    }
   ],
   "source": [
    "#The fit is statistically significant, but still not very useful.  The coefficient for quantity is small, which agrees with the\n",
    "#very small correlations present in the plot.  Let's check a model with only the process categories as factors.\n",
    "formula2 = \"TimeinDays ~ C(Dimensions)\"\n",
    "model2 = ols(formula=formula2, data=ModelData).fit()\n",
    "model2.summary()"
   ]
  },
  {
   "cell_type": "code",
   "execution_count": 32,
   "id": "a2ff027e-9836-4a84-836c-cbba3520872c",
   "metadata": {},
   "outputs": [
    {
     "data": {
      "text/plain": [
       "<Axes: xlabel='Dimensions', ylabel='TimeinDays'>"
      ]
     },
     "execution_count": 32,
     "metadata": {},
     "output_type": "execute_result"
    },
    {
     "data": {
      "image/png": "[encoded data removed]",
      "text/plain": [
       "<Figure size 640x480 with 1 Axes>"
      ]
     },
     "metadata": {},
     "output_type": "display_data"
    }
   ],
   "source": [
    "#That's more interesting.  The coefficients for UV and NoProcess are much larger while also being significant.  This suggests\n",
    "#that whether a order has UV or no-embellishments makes an impact on total time to complete.  Interestingly, the glitter process\n",
    "#does not appear to be a significant predictor of total completion time.  Below is a plot,\n",
    "#showing completion time plotted against process as a sanity check.\n",
    "sns.boxplot(data=ModelData, x=\"Dimensions\", y=\"TimeinDays\")"
   ]
  },
  {
   "cell_type": "code",
   "execution_count": 33,
   "id": "032502a3-3bea-468a-bf76-f6b6a8641b82",
   "metadata": {},
   "outputs": [],
   "source": [
    "#Indeed, the completion time for this subset of work orders definitely does not appear to vary strongly based on embellishment.\n",
    "#However, we can see that the boxes for UV and NoProcess do appear a bit lower than for glitter and foil treatment."
   ]
  },
  {
   "cell_type": "code",
   "execution_count": 34,
   "id": "28d57807-e5d1-44db-b382-4548a964fad3",
   "metadata": {},
   "outputs": [],
   "source": [
    "#To improve the model, let's also eliminate outliers for time in days.  Below, we model the majority of work orders, but exclude those\n",
    "#taking longer than 40 days.\n",
    "ModelData = ModelData[ModelData[\"TimeinDays\"] <= 40]"
   ]
  },
  {
   "cell_type": "code",
   "execution_count": 35,
   "id": "85017b60-1572-41c6-ad71-4b4740a636e3",
   "metadata": {},
   "outputs": [
    {
     "data": {
      "text/plain": [
       "Dimensions\n",
       "NoProcess    998\n",
       "GL           411\n",
       "UV           388\n",
       "FS           268\n",
       "Name: count, dtype: int64"
      ]
     },
     "execution_count": 35,
     "metadata": {},
     "output_type": "execute_result"
    }
   ],
   "source": [
    "ModelData[\"Dimensions\"].value_counts()"
   ]
  },
  {
   "cell_type": "code",
   "execution_count": 36,
   "id": "d24c227b-cd97-4320-936c-f07ff9294721",
   "metadata": {},
   "outputs": [
    {
     "data": {
      "text/plain": [
       "<Axes: xlabel='Dimensions', ylabel='TimeinDays'>"
      ]
     },
     "execution_count": 36,
     "metadata": {},
     "output_type": "execute_result"
    },
    {
     "data": {
      "image/png": "[encoded data removed]",
      "text/plain": [
       "<Figure size 640x480 with 1 Axes>"
      ]
     },
     "metadata": {},
     "output_type": "display_data"
    }
   ],
   "source": [
    "#This is good, because it brings the NoProcess count closer to those with processes and still includes most of the earlier data set.\n",
    "sns.boxplot(data=ModelData, x=\"Dimensions\", y=\"TimeinDays\")"
   ]
  },
  {
   "cell_type": "code",
   "execution_count": 37,
   "id": "537256ad-6d76-4e75-99d5-62b228c98619",
   "metadata": {},
   "outputs": [
    {
     "data": {
      "text/html": [
       "<table class=\"simpletable\">\n",
       "<caption>OLS Regression Results</caption>\n",
       "<tr>\n",
       "  <th>Dep. Variable:</th>       <td>TimeinDays</td>    <th>  R-squared:         </th> <td>   0.089</td> \n",
       "</tr>\n",
       "<tr>\n",
       "  <th>Model:</th>                   <td>OLS</td>       <th>  Adj. R-squared:    </th> <td>   0.087</td> \n",
       "</tr>\n",
       "<tr>\n",
       "  <th>Method:</th>             <td>Least Squares</td>  <th>  F-statistic:       </th> <td>   66.93</td> \n",
       "</tr>\n",
       "<tr>\n",
       "  <th>Date:</th>             <td>Sun, 23 Jun 2024</td> <th>  Prob (F-statistic):</th> <td>2.69e-41</td> \n",
       "</tr>\n",
       "<tr>\n",
       "  <th>Time:</th>                 <td>16:27:37</td>     <th>  Log-Likelihood:    </th> <td> -7298.6</td> \n",
       "</tr>\n",
       "<tr>\n",
       "  <th>No. Observations:</th>      <td>  2065</td>      <th>  AIC:               </th> <td>1.461e+04</td>\n",
       "</tr>\n",
       "<tr>\n",
       "  <th>Df Residuals:</th>          <td>  2061</td>      <th>  BIC:               </th> <td>1.463e+04</td>\n",
       "</tr>\n",
       "<tr>\n",
       "  <th>Df Model:</th>              <td>     3</td>      <th>                     </th>     <td> </td>    \n",
       "</tr>\n",
       "<tr>\n",
       "  <th>Covariance Type:</th>      <td>nonrobust</td>    <th>                     </th>     <td> </td>    \n",
       "</tr>\n",
       "</table>\n",
       "<table class=\"simpletable\">\n",
       "<tr>\n",
       "               <td></td>                 <th>coef</th>     <th>std err</th>      <th>t</th>      <th>P>|t|</th>  <th>[0.025</th>    <th>0.975]</th>  \n",
       "</tr>\n",
       "<tr>\n",
       "  <th>Intercept</th>                  <td>   23.8470</td> <td>    0.507</td> <td>   47.025</td> <td> 0.000</td> <td>   22.853</td> <td>   24.842</td>\n",
       "</tr>\n",
       "<tr>\n",
       "  <th>C(Dimensions)[T.GL]</th>        <td>   -0.1074</td> <td>    0.652</td> <td>   -0.165</td> <td> 0.869</td> <td>   -1.386</td> <td>    1.171</td>\n",
       "</tr>\n",
       "<tr>\n",
       "  <th>C(Dimensions)[T.NoProcess]</th> <td>   -5.8791</td> <td>    0.571</td> <td>  -10.293</td> <td> 0.000</td> <td>   -6.999</td> <td>   -4.759</td>\n",
       "</tr>\n",
       "<tr>\n",
       "  <th>C(Dimensions)[T.UV]</th>        <td>   -4.2748</td> <td>    0.659</td> <td>   -6.483</td> <td> 0.000</td> <td>   -5.568</td> <td>   -2.982</td>\n",
       "</tr>\n",
       "</table>\n",
       "<table class=\"simpletable\">\n",
       "<tr>\n",
       "  <th>Omnibus:</th>       <td>201.295</td> <th>  Durbin-Watson:     </th> <td>   1.912</td>\n",
       "</tr>\n",
       "<tr>\n",
       "  <th>Prob(Omnibus):</th> <td> 0.000</td>  <th>  Jarque-Bera (JB):  </th> <td> 261.434</td>\n",
       "</tr>\n",
       "<tr>\n",
       "  <th>Skew:</th>          <td> 0.836</td>  <th>  Prob(JB):          </th> <td>1.70e-57</td>\n",
       "</tr>\n",
       "<tr>\n",
       "  <th>Kurtosis:</th>      <td> 3.490</td>  <th>  Cond. No.          </th> <td>    6.75</td>\n",
       "</tr>\n",
       "</table><br/><br/>Notes:<br/>[1] Standard Errors assume that the covariance matrix of the errors is correctly specified."
      ],
      "text/latex": [
       "\\begin{center}\n",
       "\\begin{tabular}{lclc}\n",
       "\\toprule\n",
       "\\textbf{Dep. Variable:}             &    TimeinDays    & \\textbf{  R-squared:         } &     0.089   \\\\\n",
       "\\textbf{Model:}                     &       OLS        & \\textbf{  Adj. R-squared:    } &     0.087   \\\\\n",
       "\\textbf{Method:}                    &  Least Squares   & \\textbf{  F-statistic:       } &     66.93   \\\\\n",
       "\\textbf{Date:}                      & Sun, 23 Jun 2024 & \\textbf{  Prob (F-statistic):} &  2.69e-41   \\\\\n",
       "\\textbf{Time:}                      &     16:27:37     & \\textbf{  Log-Likelihood:    } &   -7298.6   \\\\\n",
       "\\textbf{No. Observations:}          &        2065      & \\textbf{  AIC:               } & 1.461e+04   \\\\\n",
       "\\textbf{Df Residuals:}              &        2061      & \\textbf{  BIC:               } & 1.463e+04   \\\\\n",
       "\\textbf{Df Model:}                  &           3      & \\textbf{                     } &             \\\\\n",
       "\\textbf{Covariance Type:}           &    nonrobust     & \\textbf{                     } &             \\\\\n",
       "\\bottomrule\n",
       "\\end{tabular}\n",
       "\\begin{tabular}{lcccccc}\n",
       "                                    & \\textbf{coef} & \\textbf{std err} & \\textbf{t} & \\textbf{P$> |$t$|$} & \\textbf{[0.025} & \\textbf{0.975]}  \\\\\n",
       "\\midrule\n",
       "\\textbf{Intercept}                  &      23.8470  &        0.507     &    47.025  &         0.000        &       22.853    &       24.842     \\\\\n",
       "\\textbf{C(Dimensions)[T.GL]}        &      -0.1074  &        0.652     &    -0.165  &         0.869        &       -1.386    &        1.171     \\\\\n",
       "\\textbf{C(Dimensions)[T.NoProcess]} &      -5.8791  &        0.571     &   -10.293  &         0.000        &       -6.999    &       -4.759     \\\\\n",
       "\\textbf{C(Dimensions)[T.UV]}        &      -4.2748  &        0.659     &    -6.483  &         0.000        &       -5.568    &       -2.982     \\\\\n",
       "\\bottomrule\n",
       "\\end{tabular}\n",
       "\\begin{tabular}{lclc}\n",
       "\\textbf{Omnibus:}       & 201.295 & \\textbf{  Durbin-Watson:     } &    1.912  \\\\\n",
       "\\textbf{Prob(Omnibus):} &   0.000 & \\textbf{  Jarque-Bera (JB):  } &  261.434  \\\\\n",
       "\\textbf{Skew:}          &   0.836 & \\textbf{  Prob(JB):          } & 1.70e-57  \\\\\n",
       "\\textbf{Kurtosis:}      &   3.490 & \\textbf{  Cond. No.          } &     6.75  \\\\\n",
       "\\bottomrule\n",
       "\\end{tabular}\n",
       "%\\caption{OLS Regression Results}\n",
       "\\end{center}\n",
       "\n",
       "Notes: \\newline\n",
       " [1] Standard Errors assume that the covariance matrix of the errors is correctly specified."
      ],
      "text/plain": [
       "<class 'statsmodels.iolib.summary.Summary'>\n",
       "\"\"\"\n",
       "                            OLS Regression Results                            \n",
       "==============================================================================\n",
       "Dep. Variable:             TimeinDays   R-squared:                       0.089\n",
       "Model:                            OLS   Adj. R-squared:                  0.087\n",
       "Method:                 Least Squares   F-statistic:                     66.93\n",
       "Date:                Sun, 23 Jun 2024   Prob (F-statistic):           2.69e-41\n",
       "Time:                        16:27:37   Log-Likelihood:                -7298.6\n",
       "No. Observations:                2065   AIC:                         1.461e+04\n",
       "Df Residuals:                    2061   BIC:                         1.463e+04\n",
       "Df Model:                           3                                         \n",
       "Covariance Type:            nonrobust                                         \n",
       "==============================================================================================\n",
       "                                 coef    std err          t      P>|t|      [0.025      0.975]\n",
       "----------------------------------------------------------------------------------------------\n",
       "Intercept                     23.8470      0.507     47.025      0.000      22.853      24.842\n",
       "C(Dimensions)[T.GL]           -0.1074      0.652     -0.165      0.869      -1.386       1.171\n",
       "C(Dimensions)[T.NoProcess]    -5.8791      0.571    -10.293      0.000      -6.999      -4.759\n",
       "C(Dimensions)[T.UV]           -4.2748      0.659     -6.483      0.000      -5.568      -2.982\n",
       "==============================================================================\n",
       "Omnibus:                      201.295   Durbin-Watson:                   1.912\n",
       "Prob(Omnibus):                  0.000   Jarque-Bera (JB):              261.434\n",
       "Skew:                           0.836   Prob(JB):                     1.70e-57\n",
       "Kurtosis:                       3.490   Cond. No.                         6.75\n",
       "==============================================================================\n",
       "\n",
       "Notes:\n",
       "[1] Standard Errors assume that the covariance matrix of the errors is correctly specified.\n",
       "\"\"\""
      ]
     },
     "execution_count": 37,
     "metadata": {},
     "output_type": "execute_result"
    }
   ],
   "source": [
    "#Now, we are getting some more variance between processes.  The data is becoming more visible after taking out outliers.\n",
    "#Now, we rerun model 2.\n",
    "model2 = ols(formula=formula2, data=ModelData).fit()\n",
    "model2.summary()"
   ]
  },
  {
   "cell_type": "code",
   "execution_count": 38,
   "id": "c465f189-ba9d-4fd8-be86-05bf3569eef9",
   "metadata": {},
   "outputs": [],
   "source": [
    "#The output is similar to before, expect we now see a stronger relationship of NoProcess and UV on the time.\n",
    "#For a final model, let's remove the data with glitter treatment.  The conclusion from this 2024 data set is that\n",
    "#processing time seems to not be related to glitter embellishment as I expected.\n",
    "ModelData = ModelData[ModelData[\"Dimensions\"] != \"GL\"]"
   ]
  },
  {
   "cell_type": "code",
   "execution_count": 39,
   "id": "5e88caa9-6c9a-4739-8d26-d94232cf3156",
   "metadata": {},
   "outputs": [
    {
     "data": {
      "text/html": [
       "<table class=\"simpletable\">\n",
       "<caption>OLS Regression Results</caption>\n",
       "<tr>\n",
       "  <th>Dep. Variable:</th>       <td>TimeinDays</td>    <th>  R-squared:         </th> <td>   0.058</td> \n",
       "</tr>\n",
       "<tr>\n",
       "  <th>Model:</th>                   <td>OLS</td>       <th>  Adj. R-squared:    </th> <td>   0.056</td> \n",
       "</tr>\n",
       "<tr>\n",
       "  <th>Method:</th>             <td>Least Squares</td>  <th>  F-statistic:       </th> <td>   50.39</td> \n",
       "</tr>\n",
       "<tr>\n",
       "  <th>Date:</th>             <td>Sun, 23 Jun 2024</td> <th>  Prob (F-statistic):</th> <td>5.73e-22</td> \n",
       "</tr>\n",
       "<tr>\n",
       "  <th>Time:</th>                 <td>16:27:37</td>     <th>  Log-Likelihood:    </th> <td> -5891.8</td> \n",
       "</tr>\n",
       "<tr>\n",
       "  <th>No. Observations:</th>      <td>  1654</td>      <th>  AIC:               </th> <td>1.179e+04</td>\n",
       "</tr>\n",
       "<tr>\n",
       "  <th>Df Residuals:</th>          <td>  1651</td>      <th>  BIC:               </th> <td>1.181e+04</td>\n",
       "</tr>\n",
       "<tr>\n",
       "  <th>Df Model:</th>              <td>     2</td>      <th>                     </th>     <td> </td>    \n",
       "</tr>\n",
       "<tr>\n",
       "  <th>Covariance Type:</th>      <td>nonrobust</td>    <th>                     </th>     <td> </td>    \n",
       "</tr>\n",
       "</table>\n",
       "<table class=\"simpletable\">\n",
       "<tr>\n",
       "               <td></td>                 <th>coef</th>     <th>std err</th>      <th>t</th>      <th>P>|t|</th>  <th>[0.025</th>    <th>0.975]</th>  \n",
       "</tr>\n",
       "<tr>\n",
       "  <th>Intercept</th>                  <td>   23.8470</td> <td>    0.521</td> <td>   45.743</td> <td> 0.000</td> <td>   22.824</td> <td>   24.870</td>\n",
       "</tr>\n",
       "<tr>\n",
       "  <th>C(Dimensions)[T.NoProcess]</th> <td>   -5.8791</td> <td>    0.587</td> <td>  -10.013</td> <td> 0.000</td> <td>   -7.031</td> <td>   -4.727</td>\n",
       "</tr>\n",
       "<tr>\n",
       "  <th>C(Dimensions)[T.UV]</th>        <td>   -4.2748</td> <td>    0.678</td> <td>   -6.306</td> <td> 0.000</td> <td>   -5.604</td> <td>   -2.945</td>\n",
       "</tr>\n",
       "</table>\n",
       "<table class=\"simpletable\">\n",
       "<tr>\n",
       "  <th>Omnibus:</th>       <td>185.835</td> <th>  Durbin-Watson:     </th> <td>   1.943</td>\n",
       "</tr>\n",
       "<tr>\n",
       "  <th>Prob(Omnibus):</th> <td> 0.000</td>  <th>  Jarque-Bera (JB):  </th> <td> 249.575</td>\n",
       "</tr>\n",
       "<tr>\n",
       "  <th>Skew:</th>          <td> 0.924</td>  <th>  Prob(JB):          </th> <td>6.39e-55</td>\n",
       "</tr>\n",
       "<tr>\n",
       "  <th>Kurtosis:</th>      <td> 3.453</td>  <th>  Cond. No.          </th> <td>    5.50</td>\n",
       "</tr>\n",
       "</table><br/><br/>Notes:<br/>[1] Standard Errors assume that the covariance matrix of the errors is correctly specified."
      ],
      "text/latex": [
       "\\begin{center}\n",
       "\\begin{tabular}{lclc}\n",
       "\\toprule\n",
       "\\textbf{Dep. Variable:}             &    TimeinDays    & \\textbf{  R-squared:         } &     0.058   \\\\\n",
       "\\textbf{Model:}                     &       OLS        & \\textbf{  Adj. R-squared:    } &     0.056   \\\\\n",
       "\\textbf{Method:}                    &  Least Squares   & \\textbf{  F-statistic:       } &     50.39   \\\\\n",
       "\\textbf{Date:}                      & Sun, 23 Jun 2024 & \\textbf{  Prob (F-statistic):} &  5.73e-22   \\\\\n",
       "\\textbf{Time:}                      &     16:27:37     & \\textbf{  Log-Likelihood:    } &   -5891.8   \\\\\n",
       "\\textbf{No. Observations:}          &        1654      & \\textbf{  AIC:               } & 1.179e+04   \\\\\n",
       "\\textbf{Df Residuals:}              &        1651      & \\textbf{  BIC:               } & 1.181e+04   \\\\\n",
       "\\textbf{Df Model:}                  &           2      & \\textbf{                     } &             \\\\\n",
       "\\textbf{Covariance Type:}           &    nonrobust     & \\textbf{                     } &             \\\\\n",
       "\\bottomrule\n",
       "\\end{tabular}\n",
       "\\begin{tabular}{lcccccc}\n",
       "                                    & \\textbf{coef} & \\textbf{std err} & \\textbf{t} & \\textbf{P$> |$t$|$} & \\textbf{[0.025} & \\textbf{0.975]}  \\\\\n",
       "\\midrule\n",
       "\\textbf{Intercept}                  &      23.8470  &        0.521     &    45.743  &         0.000        &       22.824    &       24.870     \\\\\n",
       "\\textbf{C(Dimensions)[T.NoProcess]} &      -5.8791  &        0.587     &   -10.013  &         0.000        &       -7.031    &       -4.727     \\\\\n",
       "\\textbf{C(Dimensions)[T.UV]}        &      -4.2748  &        0.678     &    -6.306  &         0.000        &       -5.604    &       -2.945     \\\\\n",
       "\\bottomrule\n",
       "\\end{tabular}\n",
       "\\begin{tabular}{lclc}\n",
       "\\textbf{Omnibus:}       & 185.835 & \\textbf{  Durbin-Watson:     } &    1.943  \\\\\n",
       "\\textbf{Prob(Omnibus):} &   0.000 & \\textbf{  Jarque-Bera (JB):  } &  249.575  \\\\\n",
       "\\textbf{Skew:}          &   0.924 & \\textbf{  Prob(JB):          } & 6.39e-55  \\\\\n",
       "\\textbf{Kurtosis:}      &   3.453 & \\textbf{  Cond. No.          } &     5.50  \\\\\n",
       "\\bottomrule\n",
       "\\end{tabular}\n",
       "%\\caption{OLS Regression Results}\n",
       "\\end{center}\n",
       "\n",
       "Notes: \\newline\n",
       " [1] Standard Errors assume that the covariance matrix of the errors is correctly specified."
      ],
      "text/plain": [
       "<class 'statsmodels.iolib.summary.Summary'>\n",
       "\"\"\"\n",
       "                            OLS Regression Results                            \n",
       "==============================================================================\n",
       "Dep. Variable:             TimeinDays   R-squared:                       0.058\n",
       "Model:                            OLS   Adj. R-squared:                  0.056\n",
       "Method:                 Least Squares   F-statistic:                     50.39\n",
       "Date:                Sun, 23 Jun 2024   Prob (F-statistic):           5.73e-22\n",
       "Time:                        16:27:37   Log-Likelihood:                -5891.8\n",
       "No. Observations:                1654   AIC:                         1.179e+04\n",
       "Df Residuals:                    1651   BIC:                         1.181e+04\n",
       "Df Model:                           2                                         \n",
       "Covariance Type:            nonrobust                                         \n",
       "==============================================================================================\n",
       "                                 coef    std err          t      P>|t|      [0.025      0.975]\n",
       "----------------------------------------------------------------------------------------------\n",
       "Intercept                     23.8470      0.521     45.743      0.000      22.824      24.870\n",
       "C(Dimensions)[T.NoProcess]    -5.8791      0.587    -10.013      0.000      -7.031      -4.727\n",
       "C(Dimensions)[T.UV]           -4.2748      0.678     -6.306      0.000      -5.604      -2.945\n",
       "==============================================================================\n",
       "Omnibus:                      185.835   Durbin-Watson:                   1.943\n",
       "Prob(Omnibus):                  0.000   Jarque-Bera (JB):              249.575\n",
       "Skew:                           0.924   Prob(JB):                     6.39e-55\n",
       "Kurtosis:                       3.453   Cond. No.                         5.50\n",
       "==============================================================================\n",
       "\n",
       "Notes:\n",
       "[1] Standard Errors assume that the covariance matrix of the errors is correctly specified.\n",
       "\"\"\""
      ]
     },
     "execution_count": 39,
     "metadata": {},
     "output_type": "execute_result"
    }
   ],
   "source": [
    "model2 = ols(formula=formula2, data=ModelData).fit()\n",
    "model2.summary()"
   ]
  },
  {
   "cell_type": "code",
   "execution_count": 40,
   "id": "ae41e2fd-e7d2-4c80-b98b-af92b7fa936c",
   "metadata": {},
   "outputs": [],
   "source": [
    "#To summarize, based on this limit data subset, an order with either foil, UV, or no embellishment (foil process is reference for\n",
    "#the modeling in this notebook)\n",
    "#can be expected to take approximately 24 days, regardless of quantity, and the time\n",
    "#will decrease by about 6 days if no embellishment is required, or 4 days if only UV is required."
   ]
  }
 ],
 "metadata": {
  "kernelspec": {
   "display_name": "Python 3 (ipykernel)",
   "language": "python",
   "name": "python3"
  },
  "language_info": {
   "codemirror_mode": {
    "name": "ipython",
    "version": 3
   },
   "file_extension": ".py",
   "mimetype": "text/x-python",
   "name": "python",
   "nbconvert_exporter": "python",
   "pygments_lexer": "ipython3",
   "version": "3.11.7"
  }
 },
 "nbformat": 4,
 "nbformat_minor": 5
}
